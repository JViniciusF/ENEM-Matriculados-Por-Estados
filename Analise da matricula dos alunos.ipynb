{
 "cells": [
  {
   "cell_type": "code",
   "execution_count": 1,
   "metadata": {},
   "outputs": [],
   "source": [
    "\n",
    "import pandas as pd\n",
    "import seaborn as sns\n",
    "import matplotlib.pyplot as plt\n",
    "low_memory = False\n"
   ]
  },
  {
   "cell_type": "code",
   "execution_count": 7,
   "metadata": {},
   "outputs": [
    {
     "data": {
      "text/html": [
       "<div>\n",
       "<style scoped>\n",
       "    .dataframe tbody tr th:only-of-type {\n",
       "        vertical-align: middle;\n",
       "    }\n",
       "\n",
       "    .dataframe tbody tr th {\n",
       "        vertical-align: top;\n",
       "    }\n",
       "\n",
       "    .dataframe thead th {\n",
       "        text-align: right;\n",
       "    }\n",
       "</style>\n",
       "<table border=\"1\" class=\"dataframe\">\n",
       "  <thead>\n",
       "    <tr style=\"text-align: right;\">\n",
       "      <th></th>\n",
       "      <th>Ano Censo</th>\n",
       "      <th>Categoria Administrativa</th>\n",
       "      <th>Sub Categoria Administrativa</th>\n",
       "      <th>Id Categoria Administrativa</th>\n",
       "      <th>Número de Vínculos de Alunos</th>\n",
       "      <th>Região</th>\n",
       "      <th>UF</th>\n",
       "      <th>Nome Região</th>\n",
       "    </tr>\n",
       "  </thead>\n",
       "  <tbody>\n",
       "    <tr>\n",
       "      <th>0</th>\n",
       "      <td>2017</td>\n",
       "      <td>PÚBLICA</td>\n",
       "      <td>FEDERAL</td>\n",
       "      <td>1</td>\n",
       "      <td>38403</td>\n",
       "      <td>CENTRO-OESTE</td>\n",
       "      <td>DISTRITO FEDERAL</td>\n",
       "      <td>CENTRO-OESTE</td>\n",
       "    </tr>\n",
       "    <tr>\n",
       "      <th>1</th>\n",
       "      <td>2017</td>\n",
       "      <td>PÚBLICA</td>\n",
       "      <td>FEDERAL</td>\n",
       "      <td>1</td>\n",
       "      <td>35334</td>\n",
       "      <td>CENTRO-OESTE</td>\n",
       "      <td>GOIÁS</td>\n",
       "      <td>CENTRO-OESTE</td>\n",
       "    </tr>\n",
       "    <tr>\n",
       "      <th>2</th>\n",
       "      <td>2017</td>\n",
       "      <td>PÚBLICA</td>\n",
       "      <td>FEDERAL</td>\n",
       "      <td>1</td>\n",
       "      <td>30177</td>\n",
       "      <td>CENTRO-OESTE</td>\n",
       "      <td>MATO GROSSO</td>\n",
       "      <td>CENTRO-OESTE</td>\n",
       "    </tr>\n",
       "    <tr>\n",
       "      <th>3</th>\n",
       "      <td>2017</td>\n",
       "      <td>PÚBLICA</td>\n",
       "      <td>FEDERAL</td>\n",
       "      <td>1</td>\n",
       "      <td>27824</td>\n",
       "      <td>CENTRO-OESTE</td>\n",
       "      <td>MATO GROSSO DO SUL</td>\n",
       "      <td>CENTRO-OESTE</td>\n",
       "    </tr>\n",
       "    <tr>\n",
       "      <th>4</th>\n",
       "      <td>2017</td>\n",
       "      <td>PÚBLICA</td>\n",
       "      <td>FEDERAL</td>\n",
       "      <td>1</td>\n",
       "      <td>26216</td>\n",
       "      <td>NORDESTE</td>\n",
       "      <td>ALAGOAS</td>\n",
       "      <td>NORDESTE</td>\n",
       "    </tr>\n",
       "  </tbody>\n",
       "</table>\n",
       "</div>"
      ],
      "text/plain": [
       "   Ano Censo Categoria Administrativa Sub Categoria Administrativa  \\\n",
       "0       2017                  PÚBLICA                      FEDERAL   \n",
       "1       2017                  PÚBLICA                      FEDERAL   \n",
       "2       2017                  PÚBLICA                      FEDERAL   \n",
       "3       2017                  PÚBLICA                      FEDERAL   \n",
       "4       2017                  PÚBLICA                      FEDERAL   \n",
       "\n",
       "   Id Categoria Administrativa  Número de Vínculos de Alunos        Região  \\\n",
       "0                            1                         38403  CENTRO-OESTE   \n",
       "1                            1                         35334  CENTRO-OESTE   \n",
       "2                            1                         30177  CENTRO-OESTE   \n",
       "3                            1                         27824  CENTRO-OESTE   \n",
       "4                            1                         26216      NORDESTE   \n",
       "\n",
       "                   UF   Nome Região  \n",
       "0    DISTRITO FEDERAL  CENTRO-OESTE  \n",
       "1               GOIÁS  CENTRO-OESTE  \n",
       "2         MATO GROSSO  CENTRO-OESTE  \n",
       "3  MATO GROSSO DO SUL  CENTRO-OESTE  \n",
       "4             ALAGOAS      NORDESTE  "
      ]
     },
     "execution_count": 7,
     "metadata": {},
     "output_type": "execute_result"
    }
   ],
   "source": [
    "uri_Instituicoes = \"https://raw.githubusercontent.com/JViniciusF/Matriculados-X-Estados/master/Matriculados%202017.csv\"\n",
    "uri = \"https://raw.githubusercontent.com/JViniciusF/Matriculados-X-Estados/master/N%C3%BAmero%20de%20Matr%C3%ADculas%20-%20Educa%C3%A7%C3%A3o%20Superior%20-%20Por%20Categoria%20Administrativa.csv\"\n",
    "df = pd.read_csv(uri,sep = \";\")\n",
    "df.head()\n",
    "#x = df[\"Nome Região\"]\n",
    "#y1 = df[\"Número de Matrículas\"] "
   ]
  },
  {
   "cell_type": "code",
   "execution_count": null,
   "metadata": {},
   "outputs": [],
   "source": [
    "sns.barplot(x = x , y = y1)\n",
    "plt.title(\"teste\");"
   ]
  },
  {
   "cell_type": "code",
   "execution_count": null,
   "metadata": {},
   "outputs": [],
   "source": []
  }
 ],
 "metadata": {
  "kernelspec": {
   "display_name": "Python 3",
   "language": "python",
   "name": "python3"
  },
  "language_info": {
   "codemirror_mode": {
    "name": "ipython",
    "version": 3
   },
   "file_extension": ".py",
   "mimetype": "text/x-python",
   "name": "python",
   "nbconvert_exporter": "python",
   "pygments_lexer": "ipython3",
   "version": "3.7.5"
  }
 },
 "nbformat": 4,
 "nbformat_minor": 2
}
