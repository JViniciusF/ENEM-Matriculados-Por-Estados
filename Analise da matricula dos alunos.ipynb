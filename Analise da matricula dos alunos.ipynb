{
 "cells": [
  {
   "cell_type": "code",
   "execution_count": 1,
   "metadata": {},
   "outputs": [],
   "source": [
    "\n",
    "import pandas as pd\n",
    "import seaborn as sns\n",
    "import matplotlib.pyplot as plt\n",
    "low_memory = False\n"
   ]
  },
  {
   "cell_type": "code",
   "execution_count": 6,
   "metadata": {},
   "outputs": [
    {
     "name": "stdout",
     "output_type": "stream",
     "text": [
      "    Ano Censo Número de Vagas Oferecidas Número de Inscritos        Região  \\\n",
      "0        2017                12929,71087         118874,4161  CENTRO-OESTE   \n",
      "1        2017                        324                 297  CENTRO-OESTE   \n",
      "2        2017                13676,43814         172327,5979  CENTRO-OESTE   \n",
      "3        2017                      12141               30714  CENTRO-OESTE   \n",
      "4        2017                       9081                5937  CENTRO-OESTE   \n",
      "..        ...                        ...                 ...           ...   \n",
      "58       2017                45620,14994         282296,0332           SUL   \n",
      "59       2017                       1982               20232           SUL   \n",
      "60       2017                16524,69985         143655,7664           SUL   \n",
      "61       2017                5249,408805         45938,33683           SUL   \n",
      "62       2017                13625,05814         11070,75727           SUL   \n",
      "\n",
      "                   UF Categoria Administrativa Sub Categoria Administrativa  \n",
      "0    DISTRITO FEDERAL                  PÚBLICA                      FEDERAL  \n",
      "1    DISTRITO FEDERAL                  PÚBLICA                     ESTADUAL  \n",
      "2               GOIÁS                  PÚBLICA                      FEDERAL  \n",
      "3               GOIÁS                  PÚBLICA                     ESTADUAL  \n",
      "4               GOIÁS                  PÚBLICA                    MUNICIPAL  \n",
      "..                ...                      ...                          ...  \n",
      "58  RIO GRANDE DO SUL                  PÚBLICA                      FEDERAL  \n",
      "59  RIO GRANDE DO SUL                  PÚBLICA                     ESTADUAL  \n",
      "60     SANTA CATARINA                  PÚBLICA                      FEDERAL  \n",
      "61     SANTA CATARINA                  PÚBLICA                     ESTADUAL  \n",
      "62     SANTA CATARINA                  PÚBLICA                    MUNICIPAL  \n",
      "\n",
      "[63 rows x 7 columns]\n"
     ]
    }
   ],
   "source": [
    "uri_Instituicoes = \"https://raw.githubusercontent.com/JViniciusF/Matriculados-X-Estados/master/N%C3%BAmero%20de%20Vagas%20e%20Inscritos.csv\"\n",
    "uri = \"https://raw.githubusercontent.com/JViniciusF/Matriculados-X-Estados/master/N%C3%BAmero%20de%20Vagas%20e%20Inscritos.csv\"\n",
    "df = pd.read_csv(uri,sep = \";\")\n",
    "print(df)\n",
    "#x = df[\"Nome Região\"]\n",
    "#y1 = df[\"Número de Matrículas\"] "
   ]
  },
  {
   "cell_type": "code",
   "execution_count": 5,
   "metadata": {},
   "outputs": [
    {
     "ename": "NameError",
     "evalue": "name 'x' is not defined",
     "output_type": "error",
     "traceback": [
      "\u001b[1;31m---------------------------------------------------------------------------\u001b[0m",
      "\u001b[1;31mNameError\u001b[0m                                 Traceback (most recent call last)",
      "\u001b[1;32m<ipython-input-5-ca92fd3f789a>\u001b[0m in \u001b[0;36m<module>\u001b[1;34m\u001b[0m\n\u001b[1;32m----> 1\u001b[1;33m \u001b[0msns\u001b[0m\u001b[1;33m.\u001b[0m\u001b[0mbarplot\u001b[0m\u001b[1;33m(\u001b[0m\u001b[0mx\u001b[0m \u001b[1;33m=\u001b[0m \u001b[0mx\u001b[0m \u001b[1;33m,\u001b[0m \u001b[0my\u001b[0m \u001b[1;33m=\u001b[0m \u001b[0my1\u001b[0m\u001b[1;33m)\u001b[0m\u001b[1;33m\u001b[0m\u001b[1;33m\u001b[0m\u001b[0m\n\u001b[0m\u001b[0;32m      2\u001b[0m \u001b[0mplt\u001b[0m\u001b[1;33m.\u001b[0m\u001b[0mtitle\u001b[0m\u001b[1;33m(\u001b[0m\u001b[1;34m\"teste\"\u001b[0m\u001b[1;33m)\u001b[0m\u001b[1;33m;\u001b[0m\u001b[1;33m\u001b[0m\u001b[1;33m\u001b[0m\u001b[0m\n",
      "\u001b[1;31mNameError\u001b[0m: name 'x' is not defined"
     ]
    }
   ],
   "source": [
    "sns.barplot(x = x , y = y1)\n",
    "plt.title(\"teste\");"
   ]
  },
  {
   "cell_type": "code",
   "execution_count": null,
   "metadata": {},
   "outputs": [],
   "source": []
  }
 ],
 "metadata": {
  "kernelspec": {
   "display_name": "Python 3",
   "language": "python",
   "name": "python3"
  },
  "language_info": {
   "codemirror_mode": {
    "name": "ipython",
    "version": 3
   },
   "file_extension": ".py",
   "mimetype": "text/x-python",
   "name": "python",
   "nbconvert_exporter": "python",
   "pygments_lexer": "ipython3",
   "version": "3.7.5"
  }
 },
 "nbformat": 4,
 "nbformat_minor": 2
}
